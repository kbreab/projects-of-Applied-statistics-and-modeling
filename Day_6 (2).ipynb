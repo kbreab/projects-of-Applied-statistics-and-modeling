{
  "nbformat": 4,
  "nbformat_minor": 0,
  "metadata": {
    "colab": {
      "name": "Day 6.ipynb",
      "provenance": [],
      "collapsed_sections": []
    },
    "kernelspec": {
      "name": "python3",
      "display_name": "Python 3"
    },
    "language_info": {
      "name": "python"
    }
  },
  "cells": [
    {
      "cell_type": "code",
      "execution_count": null,
      "metadata": {
        "colab": {
          "resources": {
            "http://localhost:8080/nbextensions/google.colab/files.js": {
              "data": "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",
              "ok": true,
              "headers": [
                [
                  "content-type",
                  "application/javascript"
                ]
              ],
              "status": 200,
              "status_text": "OK"
            }
          },
          "base_uri": "https://localhost:8080/",
          "height": 76
        },
        "id": "ZnnBb8odc7SO",
        "outputId": "573a36d9-49ed-4ff5-96b3-d794b059a18d"
      },
      "outputs": [
        {
          "output_type": "display_data",
          "data": {
            "text/html": [
              "\n",
              "     <input type=\"file\" id=\"files-a29861ac-8785-4614-829d-19a533c40e80\" name=\"files[]\" multiple disabled\n",
              "        style=\"border:none\" />\n",
              "     <output id=\"result-a29861ac-8785-4614-829d-19a533c40e80\">\n",
              "      Upload widget is only available when the cell has been executed in the\n",
              "      current browser session. Please rerun this cell to enable.\n",
              "      </output>\n",
              "      <script src=\"/nbextensions/google.colab/files.js\"></script> "
            ],
            "text/plain": [
              "<IPython.core.display.HTML object>"
            ]
          },
          "metadata": {}
        },
        {
          "output_type": "stream",
          "name": "stdout",
          "text": [
            "Saving icu_data.csv to icu_data.csv\n"
          ]
        }
      ],
      "source": [
        "import matplotlib as mpl\n",
        "import matplotlib.pyplot as plt\n",
        "import numpy as np\n",
        "import pandas as pd\n",
        "import seaborn as sns; sns.set()\n",
        "\n",
        "from google.colab import files \n",
        "## Upload 'icu_data.csv' \n",
        "files.upload();"
      ]
    },
    {
      "cell_type": "code",
      "source": [
        "df = pd.read_csv(\"icu_data.csv\")\n",
        "\n",
        "## take out outcome variables\n",
        "outcomevars = [\"mort_icu\",\"mort7\",\"mort30\",\"mort90\",\"mort180\",\"max_SOFA\"]\n",
        "dfout = df[ outcomevars ]\n",
        "\n",
        "## remove unwanted columns from explanatory variables\n",
        "to_remove = outcomevars + [\"Unnamed: 0\", \"uo_d1\"]\n",
        "for var in df.columns:\n",
        "    if var.find('_d') > -1 and var.find('_d1') == -1:\n",
        "        to_remove.append(var)\n",
        "df = df.drop( columns = to_remove )\n",
        "\n",
        "## set NIV values in mech_vent_d1 to nan, and convert to int64\n",
        "df.loc[ df[\"mech_vent_d1\"] == \"NIV\", \"mech_vent_d1\"] = np.nan\n",
        "df[\"mech_vent_d1\"] = df[\"mech_vent_d1\"].astype('float')\n",
        "\n",
        "## now build predictors and outcome\n",
        "X0 = df\n",
        "y0 = dfout[\"mort7\"]\n",
        "\n",
        "## remove records without outcome\n",
        "X1 = X0[ np.isfinite(y0) ]\n",
        "y1 = y0[ np.isfinite(y0) ]\n",
        "\n",
        "## impute missing values using median; don't use a pipeline, just apply SimpleImputer\n",
        "from sklearn.impute import SimpleImputer\n",
        "imp = SimpleImputer(missing_values=np.nan, strategy='median')\n",
        "imp.fit(X1, y1)\n",
        "\n",
        "X = imp.transform(X1)\n",
        "y = y1"
      ],
      "metadata": {
        "id": "jQCkpgJpc8eH"
      },
      "execution_count": null,
      "outputs": []
    },
    {
      "cell_type": "code",
      "source": [
        "from sklearn.linear_model import LogisticRegression\n",
        "from sklearn.model_selection import cross_val_score\n",
        "\n",
        "model = LogisticRegression(C=1, solver='saga', penalty='l2', max_iter=10000)\n",
        "\n",
        "def score_model(model, X, y):\n",
        "  scores = cross_val_score(model, X, y, cv=5, scoring='roc_auc')\n",
        "  print(\"%0.3f AUC with a standard deviation of %0.3f\" % (scores.mean(), scores.std()))\n",
        "\n",
        "score_model(model, X, y)\n",
        "\n",
        "model.fit(X, y)\n",
        "model.coef_"
      ],
      "metadata": {
        "colab": {
          "base_uri": "https://localhost:8080/"
        },
        "id": "8r5wO4undZ61",
        "outputId": "5d9bc38c-78ed-41c3-ba20-106cdbb9bed6"
      },
      "execution_count": null,
      "outputs": [
        {
          "output_type": "stream",
          "name": "stdout",
          "text": [
            "0.766 AUC with a standard deviation of 0.034\n"
          ]
        },
        {
          "output_type": "execute_result",
          "data": {
            "text/plain": [
              "array([[ 0.04580974, -0.02629265, -0.01276896, -0.00588778, -0.0010842 ,\n",
              "        -0.00444406, -0.01684184,  0.05307983,  0.00076026,  0.09761775,\n",
              "        -0.16520371, -0.00418982,  0.01200348, -0.03262842,  0.00381313,\n",
              "        -0.00283562,  0.00938941, -0.01891483,  0.00574286, -0.00021556,\n",
              "         0.00622484,  0.00168731,  0.0190309 , -0.00123877, -0.02131226,\n",
              "         0.11636044,  0.02164101, -0.01925282, -0.08493227,  0.07781835,\n",
              "         0.04428237]])"
            ]
          },
          "metadata": {},
          "execution_count": 13
        }
      ]
    },
    {
      "cell_type": "code",
      "source": [
        "model = LogisticRegression(C=1, solver='saga', penalty='l1', max_iter=10000)\n",
        "\n",
        "score_model(model, X, y)\n",
        "\n",
        "model.fit(X, y)\n",
        "model.coef_"
      ],
      "metadata": {
        "colab": {
          "base_uri": "https://localhost:8080/"
        },
        "id": "4kUQpNatdofV",
        "outputId": "09ff2dde-85f3-40d6-a0ec-191911107ba8"
      },
      "execution_count": null,
      "outputs": [
        {
          "output_type": "stream",
          "name": "stdout",
          "text": [
            "0.765 AUC with a standard deviation of 0.034\n"
          ]
        },
        {
          "output_type": "execute_result",
          "data": {
            "text/plain": [
              "array([[ 4.54954229e-02, -1.90498655e-02, -1.27303007e-02,\n",
              "        -5.88734453e-03,  0.00000000e+00, -1.57294225e-06,\n",
              "        -1.03989578e-02,  4.40454548e-02,  0.00000000e+00,\n",
              "         8.60714407e-02, -1.63879012e-01, -3.81420374e-03,\n",
              "         1.19243401e-02, -2.55285863e-02,  0.00000000e+00,\n",
              "        -2.82134576e-03,  8.97805807e-03, -1.85948235e-02,\n",
              "         1.91986238e-04, -2.72747801e-04,  6.38921299e-03,\n",
              "         1.69971309e-03,  1.21356571e-02, -1.17133180e-03,\n",
              "        -1.44608095e-02,  1.05174206e-01,  1.52886719e-02,\n",
              "        -1.42675475e-02, -7.57573752e-02,  6.97137074e-02,\n",
              "         4.20906311e-02]])"
            ]
          },
          "metadata": {},
          "execution_count": 22
        }
      ]
    },
    {
      "cell_type": "code",
      "source": [
        "list(model.get_params().keys())"
      ],
      "metadata": {
        "colab": {
          "base_uri": "https://localhost:8080/"
        },
        "id": "XZ9yr3wmd8YI",
        "outputId": "6ecb2b5a-9d69-44f4-f943-cb903c91432d"
      },
      "execution_count": null,
      "outputs": [
        {
          "output_type": "execute_result",
          "data": {
            "text/plain": [
              "['C',\n",
              " 'class_weight',\n",
              " 'dual',\n",
              " 'fit_intercept',\n",
              " 'intercept_scaling',\n",
              " 'l1_ratio',\n",
              " 'max_iter',\n",
              " 'multi_class',\n",
              " 'n_jobs',\n",
              " 'penalty',\n",
              " 'random_state',\n",
              " 'solver',\n",
              " 'tol',\n",
              " 'verbose',\n",
              " 'warm_start']"
            ]
          },
          "metadata": {},
          "execution_count": 23
        }
      ]
    },
    {
      "cell_type": "code",
      "source": [
        "from sklearn.model_selection import validation_curve\n",
        "from math import log\n",
        "\n",
        "## for l1\n",
        "vals = np.power(10.0, np.arange(-5,0,0.5))\n",
        "#vals = np.power(10.0, np.arange(-3.0,-1.7,0.1))\n",
        "\n",
        "## for l2\n",
        "#vals = np.power(10.0, np.arange(-5,0,0.1))\n",
        "#vals = np.power(10.0, np.arange(-4,-3.5,0.05))\n",
        "\n",
        "#scoring='average_precision'  ## give strange results\n",
        "#scoring='accuracy'           ## this one also works well\n",
        "scoring='roc_auc'\n",
        "\n",
        "param = \"C\"\n",
        "\n",
        "train_scores, test_scores = validation_curve(model, X, y, \n",
        "                                             param_name = param, param_range = vals, cv=5, scoring=scoring)\n",
        "\n",
        "plt.plot(np.log(vals)/log(10.0), np.mean (train_scores, 1), color='blue', label='training score')\n",
        "plt.plot(np.log(vals)/log(10.0), np.mean(test_scores, 1), color='red', label='validation score')\n",
        "plt.legend(loc='best')\n",
        "plt.xlabel('10log(C)')\n",
        "plt.ylabel(scoring);"
      ],
      "metadata": {
        "colab": {
          "base_uri": "https://localhost:8080/",
          "height": 285
        },
        "id": "J9AeLctjeq7b",
        "outputId": "a9e408ca-4c20-4e16-f36d-76c4f70b3cbd"
      },
      "execution_count": null,
      "outputs": [
        {
          "output_type": "display_data",
          "data": {
            "image/png": "[encoded data removed]",
            "text/plain": [
              "<Figure size 432x288 with 1 Axes>"
            ]
          },
          "metadata": {
            "needs_background": "light"
          }
        }
      ]
    },
    {
      "cell_type": "code",
      "source": [
        "vals = np.power(10.0, np.arange(-3.0,-1.7,0.1))\n",
        "train_scores, test_scores = validation_curve(model, X, y, \n",
        "                                             param_name = param, param_range = vals, cv=5, scoring=scoring)\n",
        "\n",
        "plt.plot(np.log(vals)/log(10.0), np.mean (train_scores, 1), color='blue', label='training score')\n",
        "plt.plot(np.log(vals)/log(10.0), np.mean(test_scores, 1), color='red', label='validation score')\n",
        "plt.legend(loc='best')\n",
        "plt.xlabel('10log(C)')\n",
        "plt.ylabel(scoring);"
      ],
      "metadata": {
        "colab": {
          "base_uri": "https://localhost:8080/",
          "height": 285
        },
        "id": "kvj8vwUNfJw1",
        "outputId": "299a145e-c4cb-475c-adbe-ab3ea3f24ab5"
      },
      "execution_count": null,
      "outputs": [
        {
          "output_type": "display_data",
          "data": {
            "image/png": "[encoded data removed]",
            "text/plain": [
              "<Figure size 432x288 with 1 Axes>"
            ]
          },
          "metadata": {
            "needs_background": "light"
          }
        }
      ]
    },
    {
      "cell_type": "code",
      "source": [
        "model.set_params(C = 10**-2.0)\n",
        "score_model(model, X, y)\n",
        "model.fit(X, y)"
      ],
      "metadata": {
        "colab": {
          "base_uri": "https://localhost:8080/"
        },
        "id": "pvBQu0xlfdlW",
        "outputId": "3b58b72a-036e-4cf1-a372-935bf07de63a"
      },
      "execution_count": null,
      "outputs": [
        {
          "output_type": "stream",
          "name": "stdout",
          "text": [
            "0.763 AUC with a standard deviation of 0.041\n"
          ]
        },
        {
          "output_type": "execute_result",
          "data": {
            "text/plain": [
              "LogisticRegression(C=0.01, max_iter=10000, penalty='l1', solver='saga')"
            ]
          },
          "metadata": {},
          "execution_count": 36
        }
      ]
    },
    {
      "cell_type": "code",
      "source": [
        "model.coef_"
      ],
      "metadata": {
        "colab": {
          "base_uri": "https://localhost:8080/"
        },
        "id": "t5Gp6EaBfwwu",
        "outputId": "cd4b05d1-fac4-4e8c-e83f-fcc396b11526"
      },
      "execution_count": null,
      "outputs": [
        {
          "output_type": "execute_result",
          "data": {
            "text/plain": [
              "array([[ 0.03281123,  0.        , -0.01198127, -0.0011225 ,  0.        ,\n",
              "         0.        ,  0.        ,  0.        ,  0.        ,  0.        ,\n",
              "        -0.11294176,  0.        ,  0.01103057,  0.        ,  0.        ,\n",
              "        -0.00293088,  0.        , -0.0081336 ,  0.        , -0.0008849 ,\n",
              "         0.00613429,  0.00159499,  0.        , -0.00156746,  0.        ,\n",
              "         0.        ,  0.        ,  0.        ,  0.        ,  0.        ,\n",
              "         0.        ]])"
            ]
          },
          "metadata": {},
          "execution_count": 27
        }
      ]
    },
    {
      "cell_type": "code",
      "source": [
        "model.coef_ != 0"
      ],
      "metadata": {
        "colab": {
          "base_uri": "https://localhost:8080/"
        },
        "id": "bAHU0RfhfzQL",
        "outputId": "810e241a-f06f-4a3b-8753-79a7c76826cc"
      },
      "execution_count": null,
      "outputs": [
        {
          "output_type": "execute_result",
          "data": {
            "text/plain": [
              "array([[ True, False,  True,  True, False, False, False, False, False,\n",
              "        False,  True, False,  True, False, False,  True, False,  True,\n",
              "        False,  True,  True,  True, False,  True, False, False, False,\n",
              "        False, False, False, False]])"
            ]
          },
          "metadata": {},
          "execution_count": 28
        }
      ]
    },
    {
      "cell_type": "code",
      "source": [
        "list(df.columns[ (model.coef_ != 0)[0] ])"
      ],
      "metadata": {
        "colab": {
          "base_uri": "https://localhost:8080/"
        },
        "id": "OR-KUC3Lf8Ee",
        "outputId": "691d5c8e-d8f8-4729-c203-26f09bf0edc1"
      },
      "execution_count": null,
      "outputs": [
        {
          "output_type": "execute_result",
          "data": {
            "text/plain": [
              "['age',\n",
              " 'height',\n",
              " 'weight',\n",
              " 'gcs_d1',\n",
              " 'fio2_d1',\n",
              " 'sap_d1',\n",
              " 'MAP_d1',\n",
              " 'platelets_d1',\n",
              " 'bili_d1',\n",
              " 'creat_d1',\n",
              " 'resp_d1_amount']"
            ]
          },
          "metadata": {},
          "execution_count": 35
        }
      ]
    },
    {
      "cell_type": "markdown",
      "source": [
        "## Extra - does adding interactions improve the model?"
      ],
      "metadata": {
        "id": "JwlPVAVFl44U"
      }
    },
    {
      "cell_type": "code",
      "source": [
        "from sklearn.pipeline import Pipeline\n",
        "from sklearn.preprocessing import PolynomialFeatures\n",
        "from sklearn.compose import ColumnTransformer\n",
        "\n",
        "imp = SimpleImputer(missing_values=np.nan, strategy='median')\n",
        "\n",
        "model = LogisticRegression(C=pow(10.0,-2.3), solver='saga', penalty = 'l1', max_iter=10000)\n",
        "\n",
        "vars = ['age',\n",
        " 'height',\n",
        " 'gcs_d1',\n",
        " 'fio2_d1',\n",
        " 'sap_d1',\n",
        " 'MAP_d1',\n",
        " 'platelets_d1',\n",
        " 'bili_d1',\n",
        " 'creat_d1',\n",
        " 'resp_d1_amount']\n",
        "\n",
        "ct = ColumnTransformer([(\"cols\", \"passthrough\", vars)], remainder=\"drop\")\n",
        "\n",
        "## We're making a pipeline, rather than using the pre-imputed Numpy array X, as X does not have named\n",
        "## columns.  We could work without the names, it's just more convenient this way.\n",
        "## We now need to use X1,y1 (data frames, before imputation) rather than X,y (numpy arrays, after imputation)\n",
        "## \n",
        "## Warning: select columns BEFORE doing imputation.  Otherwise you get strange errors - is this a bug?\n",
        "\n",
        "pipe = Pipeline([('columns', ct),\n",
        "                 ('imputation', imp), \n",
        "                 ('interact', PolynomialFeatures(degree=2, interaction_only = True)),\n",
        "                 ('model', model)])\n",
        "\n",
        "## for l1\n",
        "vals = np.power(10.0, np.arange(-5,-1,0.5))\n",
        "\n",
        "scoring='roc_auc'\n",
        "\n",
        "train_scores, test_scores = validation_curve(pipe, X1, y1, \n",
        "                                             param_name = 'model__C', param_range = vals, cv=5, scoring=scoring)\n",
        "\n",
        "plt.plot(np.log(vals)/log(10.0), np.mean (train_scores, 1), color='blue', label='training score')\n",
        "plt.plot(np.log(vals)/log(10.0), np.mean(test_scores, 1), color='red', label='validation score')\n",
        "plt.legend(loc='best')\n",
        "plt.xlabel('10log(C)')\n",
        "plt.ylabel('roc_auc');"
      ],
      "metadata": {
        "colab": {
          "base_uri": "https://localhost:8080/",
          "height": 285
        },
        "id": "rLifrTZGgkOU",
        "outputId": "621a2438-6230-49ac-e1fa-1adbdd789ea0"
      },
      "execution_count": null,
      "outputs": [
        {
          "output_type": "display_data",
          "data": {
            "image/png": "[encoded data removed]",
            "text/plain": [
              "<Figure size 432x288 with 1 Axes>"
            ]
          },
          "metadata": {
            "needs_background": "light"
          }
        }
      ]
    },
    {
      "cell_type": "code",
      "source": [
        "vals = np.power(10.0, np.arange(-4,-3,0.333))\n",
        "\n",
        "train_scores, test_scores = validation_curve(pipe, X1, y1, \n",
        "                                             param_name = 'model__C', param_range = vals, cv=10, scoring=scoring)\n",
        "\n",
        "plt.plot(np.log(vals)/log(10.0), np.mean (train_scores, 1), color='blue', label='training score')\n",
        "plt.plot(np.log(vals)/log(10.0), np.mean(test_scores, 1), color='red', label='validation score')\n",
        "plt.legend(loc='best')\n",
        "plt.xlabel('10log(C)')\n",
        "plt.ylabel('roc_auc');"
      ],
      "metadata": {
        "colab": {
          "base_uri": "https://localhost:8080/",
          "height": 285
        },
        "id": "D7U7pMEGizoM",
        "outputId": "aad84bc9-00b3-4035-a9cc-0fe3d95d8f4d"
      },
      "execution_count": null,
      "outputs": [
        {
          "output_type": "display_data",
          "data": {
            "image/png": "[encoded data removed]",
            "text/plain": [
              "<Figure size 432x288 with 1 Axes>"
            ]
          },
          "metadata": {
            "needs_background": "light"
          }
        }
      ]
    },
    {
      "cell_type": "code",
      "source": [
        "## which columns have nonzero coefficients?\n",
        "pipe.set_params(model__C = 10**-3.8)\n",
        "score_model(pipe, X1, y1)\n",
        "\n",
        "pipe.fit(X1,y1)\n",
        "nonzeros = (pipe[-1].coef_ != 0)[0]\n",
        "print(\"There are \",np.sum(nonzeros),\" nonzero coefficients.\")"
      ],
      "metadata": {
        "colab": {
          "base_uri": "https://localhost:8080/"
        },
        "id": "Y9fpA9yKjTa6",
        "outputId": "7157fd6e-6831-44be-9f4b-3fd6d806e310"
      },
      "execution_count": null,
      "outputs": [
        {
          "output_type": "stream",
          "name": "stdout",
          "text": [
            "0.772 AUC with a standard deviation of 0.033\n",
            "There are  24  nonzero coefficients.\n"
          ]
        }
      ]
    },
    {
      "cell_type": "markdown",
      "source": [
        "Adding interactions to the model improves the AUC from 0.763 to 0.772.  The model now includes 24 nonzero coefficients."
      ],
      "metadata": {
        "id": "E-LgA1YCmLNS"
      }
    }
  ]
}